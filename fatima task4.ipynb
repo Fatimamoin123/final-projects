{
 "cells": [
  {
   "cell_type": "code",
   "execution_count": 3,
   "id": "36eb6ee4",
   "metadata": {},
   "outputs": [
    {
     "name": "stdout",
     "output_type": "stream",
     "text": [
      "enter 1st number yes\n",
      "Shuting down\n"
     ]
    }
   ],
   "source": [
    "def takeinput(s):\n",
    "    if y == \"yes\":\n",
    "        s=\"Shuting down\"\n",
    "    elif y == \"no\":\n",
    "        s=\"Shutdown Aborted\" \n",
    "    else:    \n",
    "        s= \"Sorry\"\n",
    "    return s\n",
    "y = input(\"enter 1st number \")\n",
    "t = (takeinput(y))\n",
    "print( str(t))     "
   ]
  },
  {
   "cell_type": "code",
   "execution_count": null,
   "id": "86312952",
   "metadata": {},
   "outputs": [],
   "source": []
  }
 ],
 "metadata": {
  "kernelspec": {
   "display_name": "Python 3 (ipykernel)",
   "language": "python",
   "name": "python3"
  },
  "language_info": {
   "codemirror_mode": {
    "name": "ipython",
    "version": 3
   },
   "file_extension": ".py",
   "mimetype": "text/x-python",
   "name": "python",
   "nbconvert_exporter": "python",
   "pygments_lexer": "ipython3",
   "version": "3.8.9"
  }
 },
 "nbformat": 4,
 "nbformat_minor": 5
}
